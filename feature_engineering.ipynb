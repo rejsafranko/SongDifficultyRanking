{
 "cells": [
  {
   "cell_type": "code",
   "execution_count": 1,
   "metadata": {},
   "outputs": [],
   "source": [
    "import json\n",
    "\n",
    "import pandas as pd"
   ]
  },
  {
   "cell_type": "code",
   "execution_count": 2,
   "metadata": {},
   "outputs": [],
   "source": [
    "with open(\"data/deluxe_I_know_a_little.json\", \"r\") as file:\n",
    "    song_data = json.load(file) "
   ]
  },
  {
   "cell_type": "markdown",
   "metadata": {},
   "source": [
    "## Note Level Features"
   ]
  },
  {
   "cell_type": "code",
   "execution_count": 3,
   "metadata": {},
   "outputs": [],
   "source": [
    "song_notes = song_data.get(\"Notes\", [])"
   ]
  },
  {
   "cell_type": "code",
   "execution_count": 4,
   "metadata": {},
   "outputs": [],
   "source": [
    "song_metadata = song_data.get(\"Song\", [])"
   ]
  },
  {
   "cell_type": "code",
   "execution_count": 5,
   "metadata": {},
   "outputs": [],
   "source": [
    "notes_df = pd.DataFrame(song_notes)"
   ]
  },
  {
   "cell_type": "code",
   "execution_count": 6,
   "metadata": {},
   "outputs": [
    {
     "data": {
      "text/html": [
       "<div>\n",
       "<style scoped>\n",
       "    .dataframe tbody tr th:only-of-type {\n",
       "        vertical-align: middle;\n",
       "    }\n",
       "\n",
       "    .dataframe tbody tr th {\n",
       "        vertical-align: top;\n",
       "    }\n",
       "\n",
       "    .dataframe thead th {\n",
       "        text-align: right;\n",
       "    }\n",
       "</style>\n",
       "<table border=\"1\" class=\"dataframe\">\n",
       "  <thead>\n",
       "    <tr style=\"text-align: right;\">\n",
       "      <th></th>\n",
       "      <th>NoteId</th>\n",
       "      <th>SongId</th>\n",
       "      <th>TrackVersionId</th>\n",
       "      <th>NoteTypeId</th>\n",
       "      <th>StageId</th>\n",
       "      <th>Column</th>\n",
       "      <th>TickStart</th>\n",
       "      <th>TickEnd</th>\n",
       "      <th>ArrowDirection</th>\n",
       "      <th>SwitchHoldTicks</th>\n",
       "      <th>MatchHeight</th>\n",
       "    </tr>\n",
       "  </thead>\n",
       "  <tbody>\n",
       "    <tr>\n",
       "      <th>0</th>\n",
       "      <td>1962238</td>\n",
       "      <td>426</td>\n",
       "      <td>2</td>\n",
       "      <td>1</td>\n",
       "      <td>1</td>\n",
       "      <td>1</td>\n",
       "      <td>293.877551</td>\n",
       "      <td>293.877551</td>\n",
       "      <td>NaN</td>\n",
       "      <td>None</td>\n",
       "      <td>0</td>\n",
       "    </tr>\n",
       "    <tr>\n",
       "      <th>1</th>\n",
       "      <td>1962239</td>\n",
       "      <td>426</td>\n",
       "      <td>2</td>\n",
       "      <td>1</td>\n",
       "      <td>1</td>\n",
       "      <td>2</td>\n",
       "      <td>293.877551</td>\n",
       "      <td>293.877551</td>\n",
       "      <td>NaN</td>\n",
       "      <td>None</td>\n",
       "      <td>0</td>\n",
       "    </tr>\n",
       "    <tr>\n",
       "      <th>2</th>\n",
       "      <td>1962240</td>\n",
       "      <td>426</td>\n",
       "      <td>2</td>\n",
       "      <td>5</td>\n",
       "      <td>1</td>\n",
       "      <td>3</td>\n",
       "      <td>312.244898</td>\n",
       "      <td>312.244898</td>\n",
       "      <td>3.0</td>\n",
       "      <td>None</td>\n",
       "      <td>0</td>\n",
       "    </tr>\n",
       "    <tr>\n",
       "      <th>3</th>\n",
       "      <td>1962241</td>\n",
       "      <td>426</td>\n",
       "      <td>2</td>\n",
       "      <td>5</td>\n",
       "      <td>1</td>\n",
       "      <td>2</td>\n",
       "      <td>330.612245</td>\n",
       "      <td>330.612245</td>\n",
       "      <td>5.0</td>\n",
       "      <td>None</td>\n",
       "      <td>0</td>\n",
       "    </tr>\n",
       "    <tr>\n",
       "      <th>4</th>\n",
       "      <td>1962242</td>\n",
       "      <td>426</td>\n",
       "      <td>2</td>\n",
       "      <td>5</td>\n",
       "      <td>1</td>\n",
       "      <td>1</td>\n",
       "      <td>348.979592</td>\n",
       "      <td>348.979592</td>\n",
       "      <td>1.0</td>\n",
       "      <td>None</td>\n",
       "      <td>0</td>\n",
       "    </tr>\n",
       "  </tbody>\n",
       "</table>\n",
       "</div>"
      ],
      "text/plain": [
       "    NoteId  SongId  TrackVersionId  NoteTypeId  StageId  Column   TickStart  \\\n",
       "0  1962238     426               2           1        1       1  293.877551   \n",
       "1  1962239     426               2           1        1       2  293.877551   \n",
       "2  1962240     426               2           5        1       3  312.244898   \n",
       "3  1962241     426               2           5        1       2  330.612245   \n",
       "4  1962242     426               2           5        1       1  348.979592   \n",
       "\n",
       "      TickEnd  ArrowDirection SwitchHoldTicks  MatchHeight  \n",
       "0  293.877551             NaN            None            0  \n",
       "1  293.877551             NaN            None            0  \n",
       "2  312.244898             3.0            None            0  \n",
       "3  330.612245             5.0            None            0  \n",
       "4  348.979592             1.0            None            0  "
      ]
     },
     "execution_count": 6,
     "metadata": {},
     "output_type": "execute_result"
    }
   ],
   "source": [
    "notes_df.head()"
   ]
  },
  {
   "cell_type": "code",
   "execution_count": 7,
   "metadata": {},
   "outputs": [
    {
     "name": "stdout",
     "output_type": "stream",
     "text": [
      "643\n"
     ]
    }
   ],
   "source": [
    "total_notes = len(notes_df)\n",
    "print(total_notes)"
   ]
  },
  {
   "cell_type": "code",
   "execution_count": 8,
   "metadata": {},
   "outputs": [],
   "source": [
    "duration_str = song_metadata.get(\"Duration\", \"0m 0s\")"
   ]
  },
  {
   "cell_type": "code",
   "execution_count": 9,
   "metadata": {},
   "outputs": [],
   "source": [
    "duration_parts = duration_str.split(\" \")"
   ]
  },
  {
   "cell_type": "code",
   "execution_count": 10,
   "metadata": {},
   "outputs": [],
   "source": [
    "minutes = int(duration_parts[0][:-1]) if \"m\" in duration_parts[0] else 0\n",
    "seconds = int(duration_parts[1][:-1]) if len(duration_parts) > 1 else 0\n",
    "duration_seconds = minutes * 60 + seconds"
   ]
  },
  {
   "cell_type": "code",
   "execution_count": 11,
   "metadata": {},
   "outputs": [
    {
     "data": {
      "text/plain": [
       "133"
      ]
     },
     "execution_count": 11,
     "metadata": {},
     "output_type": "execute_result"
    }
   ],
   "source": [
    "duration_seconds"
   ]
  },
  {
   "cell_type": "markdown",
   "metadata": {},
   "source": [
    "Calculate Note Density\n",
    "\n",
    "Total number of notes divided by the song's duration. Higher density usually means more actions per second, increasing difficulty."
   ]
  },
  {
   "cell_type": "code",
   "execution_count": 12,
   "metadata": {},
   "outputs": [],
   "source": [
    "note_density = total_notes / duration_seconds if duration_seconds > 0 else 0"
   ]
  },
  {
   "cell_type": "code",
   "execution_count": 13,
   "metadata": {},
   "outputs": [
    {
     "data": {
      "text/plain": [
       "4.834586466165414"
      ]
     },
     "execution_count": 13,
     "metadata": {},
     "output_type": "execute_result"
    }
   ],
   "source": [
    "note_density"
   ]
  },
  {
   "cell_type": "markdown",
   "metadata": {},
   "source": [
    "Calculate Unique Directions (ArrowDirection)\n",
    "\n",
    "Greater count of unique arrow directions may require more skill to react."
   ]
  },
  {
   "cell_type": "code",
   "execution_count": 14,
   "metadata": {},
   "outputs": [],
   "source": [
    "unique_directions = notes_df[\"ArrowDirection\"].nunique()"
   ]
  },
  {
   "cell_type": "code",
   "execution_count": 15,
   "metadata": {},
   "outputs": [
    {
     "data": {
      "text/plain": [
       "8"
      ]
     },
     "execution_count": 15,
     "metadata": {},
     "output_type": "execute_result"
    }
   ],
   "source": [
    "unique_directions"
   ]
  },
  {
   "cell_type": "markdown",
   "metadata": {},
   "source": [
    "Calculate Unique Columns\n",
    "\n",
    "Songs using more columns or (having frequent changes) can be harder to play. "
   ]
  },
  {
   "cell_type": "code",
   "execution_count": 16,
   "metadata": {},
   "outputs": [],
   "source": [
    "unique_columns = notes_df['Column'].nunique()"
   ]
  },
  {
   "cell_type": "code",
   "execution_count": 17,
   "metadata": {},
   "outputs": [
    {
     "data": {
      "text/plain": [
       "3"
      ]
     },
     "execution_count": 17,
     "metadata": {},
     "output_type": "execute_result"
    }
   ],
   "source": [
    "unique_columns"
   ]
  },
  {
   "cell_type": "markdown",
   "metadata": {},
   "source": [
    "Count Hold Notes (non-null SwitchHoldTicks)\n",
    "\n",
    "Count or percentage of SwitchHoldTicks values that are non-null, as hold notes can add complexity."
   ]
  },
  {
   "cell_type": "code",
   "execution_count": 18,
   "metadata": {},
   "outputs": [
    {
     "name": "stdout",
     "output_type": "stream",
     "text": [
      "Hold Notes Count: 7\n",
      "Total Notes Count: 643\n",
      "Hold Notes Percentage: 1.09%\n"
     ]
    }
   ],
   "source": [
    "hold_notes_count = notes_df[\"SwitchHoldTicks\"].notnull().sum()\n",
    "print(f\"Hold Notes Count: {hold_notes_count}\")\n",
    "print(f\"Total Notes Count: {total_notes}\")\n",
    "hold_notes_percentage = (hold_notes_count / total_notes) * 100 if total_notes > 0 else 0\n",
    "print(f\"Hold Notes Percentage: {round(hold_notes_percentage, 2)}%\")"
   ]
  },
  {
   "cell_type": "code",
   "execution_count": 19,
   "metadata": {},
   "outputs": [
    {
     "data": {
      "text/html": [
       "<div>\n",
       "<style scoped>\n",
       "    .dataframe tbody tr th:only-of-type {\n",
       "        vertical-align: middle;\n",
       "    }\n",
       "\n",
       "    .dataframe tbody tr th {\n",
       "        vertical-align: top;\n",
       "    }\n",
       "\n",
       "    .dataframe thead th {\n",
       "        text-align: right;\n",
       "    }\n",
       "</style>\n",
       "<table border=\"1\" class=\"dataframe\">\n",
       "  <thead>\n",
       "    <tr style=\"text-align: right;\">\n",
       "      <th></th>\n",
       "      <th>Duration (s)</th>\n",
       "      <th>Note Density</th>\n",
       "      <th>Unique Directions</th>\n",
       "      <th>Unique Columns</th>\n",
       "      <th>Hold Notes Percentage</th>\n",
       "    </tr>\n",
       "  </thead>\n",
       "  <tbody>\n",
       "    <tr>\n",
       "      <th>0</th>\n",
       "      <td>133</td>\n",
       "      <td>4.83</td>\n",
       "      <td>8</td>\n",
       "      <td>3</td>\n",
       "      <td>1.09</td>\n",
       "    </tr>\n",
       "  </tbody>\n",
       "</table>\n",
       "</div>"
      ],
      "text/plain": [
       "   Duration (s)  Note Density  Unique Directions  Unique Columns  \\\n",
       "0           133          4.83                  8               3   \n",
       "\n",
       "   Hold Notes Percentage  \n",
       "0                   1.09  "
      ]
     },
     "execution_count": 19,
     "metadata": {},
     "output_type": "execute_result"
    }
   ],
   "source": [
    "note_level_df = pd.DataFrame([{\n",
    "    \"Duration (s)\": duration_seconds,\n",
    "    \"Note Density\": round(note_density, 2),\n",
    "    \"Unique Directions\": unique_directions,\n",
    "    \"Unique Columns\": unique_columns,\n",
    "    \"Hold Notes Percentage\": round(hold_notes_percentage, 2)\n",
    "}])\n",
    "\n",
    "note_level_df.head()"
   ]
  },
  {
   "cell_type": "markdown",
   "metadata": {},
   "source": [
    "## Stage Level Features"
   ]
  },
  {
   "cell_type": "code",
   "execution_count": 20,
   "metadata": {},
   "outputs": [],
   "source": [
    "song_stages = song_data.get(\"Stages\", [])"
   ]
  },
  {
   "cell_type": "code",
   "execution_count": 21,
   "metadata": {},
   "outputs": [],
   "source": [
    "stages_df = pd.DataFrame(song_stages)"
   ]
  },
  {
   "cell_type": "markdown",
   "metadata": {},
   "source": [
    "Number of stages\n",
    "\n",
    "Songs with more stages or sections could feel harder due to their length and variability."
   ]
  },
  {
   "cell_type": "code",
   "execution_count": 22,
   "metadata": {},
   "outputs": [
    {
     "data": {
      "text/plain": [
       "5"
      ]
     },
     "execution_count": 22,
     "metadata": {},
     "output_type": "execute_result"
    }
   ],
   "source": [
    "num_stages = len(stages_df)\n",
    "num_stages"
   ]
  },
  {
   "cell_type": "markdown",
   "metadata": {},
   "source": [
    "Average TickSize\n",
    "\n",
    "TickSize represents timing precision or granularity in each stage. Smaller tick sizes likely demand more accuracy from players."
   ]
  },
  {
   "cell_type": "code",
   "execution_count": 23,
   "metadata": {},
   "outputs": [
    {
     "data": {
      "text/plain": [
       "13.1"
      ]
     },
     "execution_count": 23,
     "metadata": {},
     "output_type": "execute_result"
    }
   ],
   "source": [
    "average_tick_size = stages_df[\"TickSize\"].mean() if not stages_df.empty else 0\n",
    "round(float(average_tick_size), 2)"
   ]
  },
  {
   "cell_type": "code",
   "execution_count": 24,
   "metadata": {},
   "outputs": [
    {
     "data": {
      "text/html": [
       "<div>\n",
       "<style scoped>\n",
       "    .dataframe tbody tr th:only-of-type {\n",
       "        vertical-align: middle;\n",
       "    }\n",
       "\n",
       "    .dataframe tbody tr th {\n",
       "        vertical-align: top;\n",
       "    }\n",
       "\n",
       "    .dataframe thead th {\n",
       "        text-align: right;\n",
       "    }\n",
       "</style>\n",
       "<table border=\"1\" class=\"dataframe\">\n",
       "  <thead>\n",
       "    <tr style=\"text-align: right;\">\n",
       "      <th></th>\n",
       "      <th>Number of Stages</th>\n",
       "      <th>Average Tick Size</th>\n",
       "    </tr>\n",
       "  </thead>\n",
       "  <tbody>\n",
       "    <tr>\n",
       "      <th>0</th>\n",
       "      <td>5</td>\n",
       "      <td>13.1</td>\n",
       "    </tr>\n",
       "  </tbody>\n",
       "</table>\n",
       "</div>"
      ],
      "text/plain": [
       "   Number of Stages  Average Tick Size\n",
       "0                 5               13.1"
      ]
     },
     "execution_count": 24,
     "metadata": {},
     "output_type": "execute_result"
    }
   ],
   "source": [
    "stage_level_df = pd.DataFrame([{\"Number of Stages\": num_stages, \"Average Tick Size\": round(average_tick_size, 2)}])\n",
    "stage_level_df.head()"
   ]
  },
  {
   "cell_type": "markdown",
   "metadata": {},
   "source": [
    "## Song Level Features"
   ]
  },
  {
   "cell_type": "markdown",
   "metadata": {},
   "source": [
    "BPM\n",
    "\n",
    "Higher BPM indicates a faster pace, generally increasing difficulty."
   ]
  },
  {
   "cell_type": "code",
   "execution_count": 25,
   "metadata": {},
   "outputs": [
    {
     "data": {
      "text/plain": [
       "196"
      ]
     },
     "execution_count": 25,
     "metadata": {},
     "output_type": "execute_result"
    }
   ],
   "source": [
    "bpm = song_metadata.get(\"BPM\", 0)\n",
    "bpm"
   ]
  },
  {
   "cell_type": "markdown",
   "metadata": {},
   "source": [
    "Difficulty Name & ID \n",
    "\n",
    "The target we want to predict."
   ]
  },
  {
   "cell_type": "code",
   "execution_count": 26,
   "metadata": {},
   "outputs": [
    {
     "name": "stdout",
     "output_type": "stream",
     "text": [
      "Extreme\n",
      "3\n"
     ]
    }
   ],
   "source": [
    "difficulty_name = song_metadata.get(\"DifficultyName\", \"Unknown\")\n",
    "print(difficulty_name)\n",
    "difficulty_id = song_metadata.get(\"DifficultyId\", -1)\n",
    "print(difficulty_id)"
   ]
  },
  {
   "cell_type": "code",
   "execution_count": 27,
   "metadata": {},
   "outputs": [
    {
     "data": {
      "text/html": [
       "<div>\n",
       "<style scoped>\n",
       "    .dataframe tbody tr th:only-of-type {\n",
       "        vertical-align: middle;\n",
       "    }\n",
       "\n",
       "    .dataframe tbody tr th {\n",
       "        vertical-align: top;\n",
       "    }\n",
       "\n",
       "    .dataframe thead th {\n",
       "        text-align: right;\n",
       "    }\n",
       "</style>\n",
       "<table border=\"1\" class=\"dataframe\">\n",
       "  <thead>\n",
       "    <tr style=\"text-align: right;\">\n",
       "      <th></th>\n",
       "      <th>BPM</th>\n",
       "      <th>Difficulty Name</th>\n",
       "      <th>Difficulty ID</th>\n",
       "    </tr>\n",
       "  </thead>\n",
       "  <tbody>\n",
       "    <tr>\n",
       "      <th>0</th>\n",
       "      <td>196</td>\n",
       "      <td>Extreme</td>\n",
       "      <td>3</td>\n",
       "    </tr>\n",
       "  </tbody>\n",
       "</table>\n",
       "</div>"
      ],
      "text/plain": [
       "   BPM Difficulty Name  Difficulty ID\n",
       "0  196         Extreme              3"
      ]
     },
     "execution_count": 27,
     "metadata": {},
     "output_type": "execute_result"
    }
   ],
   "source": [
    "song_level_df = pd.DataFrame([{\n",
    "    \"BPM\": bpm,\n",
    "    \"Difficulty Name\": difficulty_name,\n",
    "    \"Difficulty ID\": difficulty_id\n",
    "}])\n",
    "\n",
    "song_level_df.head()"
   ]
  },
  {
   "cell_type": "markdown",
   "metadata": {},
   "source": [
    "## Final song representation"
   ]
  },
  {
   "cell_type": "markdown",
   "metadata": {},
   "source": [
    "features + target (difficulty)"
   ]
  },
  {
   "cell_type": "code",
   "execution_count": 28,
   "metadata": {},
   "outputs": [
    {
     "data": {
      "text/html": [
       "<div>\n",
       "<style scoped>\n",
       "    .dataframe tbody tr th:only-of-type {\n",
       "        vertical-align: middle;\n",
       "    }\n",
       "\n",
       "    .dataframe tbody tr th {\n",
       "        vertical-align: top;\n",
       "    }\n",
       "\n",
       "    .dataframe thead th {\n",
       "        text-align: right;\n",
       "    }\n",
       "</style>\n",
       "<table border=\"1\" class=\"dataframe\">\n",
       "  <thead>\n",
       "    <tr style=\"text-align: right;\">\n",
       "      <th></th>\n",
       "      <th>Duration (s)</th>\n",
       "      <th>Note Density</th>\n",
       "      <th>Unique Directions</th>\n",
       "      <th>Unique Columns</th>\n",
       "      <th>Hold Notes Percentage</th>\n",
       "      <th>Number of Stages</th>\n",
       "      <th>Average Tick Size</th>\n",
       "      <th>BPM</th>\n",
       "      <th>Difficulty Name</th>\n",
       "      <th>Difficulty ID</th>\n",
       "    </tr>\n",
       "  </thead>\n",
       "  <tbody>\n",
       "    <tr>\n",
       "      <th>0</th>\n",
       "      <td>133</td>\n",
       "      <td>4.83</td>\n",
       "      <td>8</td>\n",
       "      <td>3</td>\n",
       "      <td>1.09</td>\n",
       "      <td>5</td>\n",
       "      <td>13.1</td>\n",
       "      <td>196</td>\n",
       "      <td>Extreme</td>\n",
       "      <td>3</td>\n",
       "    </tr>\n",
       "  </tbody>\n",
       "</table>\n",
       "</div>"
      ],
      "text/plain": [
       "   Duration (s)  Note Density  Unique Directions  Unique Columns  \\\n",
       "0           133          4.83                  8               3   \n",
       "\n",
       "   Hold Notes Percentage  Number of Stages  Average Tick Size  BPM  \\\n",
       "0                   1.09                 5               13.1  196   \n",
       "\n",
       "  Difficulty Name  Difficulty ID  \n",
       "0         Extreme              3  "
      ]
     },
     "execution_count": 28,
     "metadata": {},
     "output_type": "execute_result"
    }
   ],
   "source": [
    "final_df = pd.concat([note_level_df, stage_level_df, song_level_df], axis=1)\n",
    "final_df.head()"
   ]
  }
 ],
 "metadata": {
  "kernelspec": {
   "display_name": "env",
   "language": "python",
   "name": "python3"
  },
  "language_info": {
   "codemirror_mode": {
    "name": "ipython",
    "version": 3
   },
   "file_extension": ".py",
   "mimetype": "text/x-python",
   "name": "python",
   "nbconvert_exporter": "python",
   "pygments_lexer": "ipython3",
   "version": "3.11.9"
  }
 },
 "nbformat": 4,
 "nbformat_minor": 2
}
